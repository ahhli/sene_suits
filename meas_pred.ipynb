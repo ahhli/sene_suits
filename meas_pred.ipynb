import pandas as pd
import numpy as np

pd.DataFrame(np.ones((5,5))
